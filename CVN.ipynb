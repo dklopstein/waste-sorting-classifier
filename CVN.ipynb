{
 "cells": [
  {
   "cell_type": "code",
   "execution_count": 1,
   "metadata": {},
   "outputs": [
    {
     "name": "stdout",
     "output_type": "stream",
     "text": [
      "Requirement already satisfied: kagglehub==0.3.3 in c:\\users\\atodd\\appdata\\local\\programs\\python\\python311\\lib\\site-packages (0.3.3)\n",
      "Requirement already satisfied: packaging in c:\\users\\atodd\\appdata\\local\\programs\\python\\python311\\lib\\site-packages (from kagglehub==0.3.3) (23.1)\n",
      "Requirement already satisfied: requests in c:\\users\\atodd\\appdata\\local\\programs\\python\\python311\\lib\\site-packages (from kagglehub==0.3.3) (2.31.0)\n",
      "Requirement already satisfied: tqdm in c:\\users\\atodd\\appdata\\local\\programs\\python\\python311\\lib\\site-packages (from kagglehub==0.3.3) (4.67.0)\n",
      "Requirement already satisfied: charset-normalizer<4,>=2 in c:\\users\\atodd\\appdata\\local\\programs\\python\\python311\\lib\\site-packages (from requests->kagglehub==0.3.3) (3.2.0)\n",
      "Requirement already satisfied: idna<4,>=2.5 in c:\\users\\atodd\\appdata\\local\\programs\\python\\python311\\lib\\site-packages (from requests->kagglehub==0.3.3) (3.4)\n",
      "Requirement already satisfied: urllib3<3,>=1.21.1 in c:\\users\\atodd\\appdata\\local\\programs\\python\\python311\\lib\\site-packages (from requests->kagglehub==0.3.3) (2.0.4)\n",
      "Requirement already satisfied: certifi>=2017.4.17 in c:\\users\\atodd\\appdata\\local\\programs\\python\\python311\\lib\\site-packages (from requests->kagglehub==0.3.3) (2023.7.22)\n",
      "Requirement already satisfied: colorama in c:\\users\\atodd\\appdata\\local\\programs\\python\\python311\\lib\\site-packages (from tqdm->kagglehub==0.3.3) (0.4.6)\n"
     ]
    },
    {
     "name": "stderr",
     "output_type": "stream",
     "text": [
      "\n",
      "[notice] A new release of pip is available: 24.2 -> 24.3.1\n",
      "[notice] To update, run: python.exe -m pip install --upgrade pip\n"
     ]
    }
   ],
   "source": [
    "!pip install kagglehub==0.3.3"
   ]
  },
  {
   "cell_type": "code",
   "execution_count": 2,
   "metadata": {},
   "outputs": [
    {
     "name": "stderr",
     "output_type": "stream",
     "text": [
      "c:\\Users\\atodd\\AppData\\Local\\Programs\\Python\\Python311\\Lib\\site-packages\\tqdm\\auto.py:21: TqdmWarning: IProgress not found. Please update jupyter and ipywidgets. See https://ipywidgets.readthedocs.io/en/stable/user_install.html\n",
      "  from .autonotebook import tqdm as notebook_tqdm\n"
     ]
    }
   ],
   "source": [
    "import kagglehub\n",
    "import os\n",
    "import pandas as pd\n",
    "import numpy as np\n",
    "from PIL import Image\n",
    "import seaborn as sns\n",
    "import matplotlib.pyplot as plt\n",
    "from sklearn.model_selection import train_test_split"
   ]
  },
  {
   "cell_type": "code",
   "execution_count": 3,
   "metadata": {},
   "outputs": [
    {
     "name": "stdout",
     "output_type": "stream",
     "text": [
      "Warning: Looks like you're using an outdated `kagglehub` version, please consider updating (latest version: 0.3.4)\n"
     ]
    }
   ],
   "source": [
    "# Download latest version of kaggle dataset\n",
    "path = kagglehub.dataset_download(\"alistairking/recyclable-and-household-waste-classification\")"
   ]
  },
  {
   "cell_type": "code",
   "execution_count": 4,
   "metadata": {},
   "outputs": [],
   "source": [
    "# Get image paths and create lists to populate later\n",
    "class_path = path + '/images' + '/images'\n",
    "classes = os.listdir(class_path)\n",
    "image_paths = []\n",
    "labels = [] # Trash category associated with each image\n",
    "d_r = [] # default (studio/standard) vs real world img\n"
   ]
  },
  {
   "cell_type": "code",
   "execution_count": null,
   "metadata": {},
   "outputs": [],
   "source": [
    "# Access image folders and populate lists with needed data\n",
    "for i, label in enumerate(classes):\n",
    "    class_dir = os.path.join(class_path, label)\n",
    "    for subfolder in ['default', 'real_world']:\n",
    "        subfolder_dir = os.path.join(class_dir, subfolder)\n",
    "        image_names = os.listdir(subfolder_dir)\n",
    "        \n",
    "        for j in range(0, len(image_names), int(len(image_names)/3)): # TODO: change step on turn-in\n",
    "          image_name = image_names[j]\n",
    "          d_r.append(subfolder)\n",
    "          image_paths.append(os.path.join(subfolder_dir, image_name)) \n",
    "          labels.append(label)"
   ]
  },
  {
   "cell_type": "code",
   "execution_count": 1,
   "metadata": {},
   "outputs": [],
   "source": [
    "import tensorflow as tf"
   ]
  }
 ],
 "metadata": {
  "kernelspec": {
   "display_name": "Python 3",
   "language": "python",
   "name": "python3"
  },
  "language_info": {
   "codemirror_mode": {
    "name": "ipython",
    "version": 3
   },
   "file_extension": ".py",
   "mimetype": "text/x-python",
   "name": "python",
   "nbconvert_exporter": "python",
   "pygments_lexer": "ipython3",
   "version": "3.11.1"
  }
 },
 "nbformat": 4,
 "nbformat_minor": 2
}
